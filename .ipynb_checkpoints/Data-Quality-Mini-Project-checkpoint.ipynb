{
 "cells": [
  {
   "cell_type": "markdown",
   "metadata": {},
   "source": [
    "# Course Mini-project M2 ID           \n",
    "     "
   ]
  },
  {
   "cell_type": "markdown",
   "metadata": {},
   "source": [
    "Data quality project consisting in implementing the FastFD algorithm.\n",
    "\n",
    "Realized by :\n",
    "    <ul>\n",
    "    <li> BOUMAZA Khaoula </li>\n",
    "    <li> DOS SANTOS Bérénice </li>\n",
    "    <li> HOUMEL Idir </li>\n",
    "    <li> KARMALEKI Vincent </li>\n",
    "    <li> MESSALI Nassim </li>\n",
    "    <li> TAYART DE BORMS Charlotte </li>"
   ]
  },
  {
   "cell_type": "markdown",
   "metadata": {},
   "source": [
    "\n",
    "# Project Subject 2: Implementation of the FastFD Algorithm"
   ]
  },
  {
   "cell_type": "code",
   "execution_count": 3,
   "metadata": {},
   "outputs": [],
   "source": [
    "def FastFD(R, r):\n",
    "    r = generateIDsForTuples(r)\n",
    "    EVs = generateEvidenceSets(R, r) \n",
    "    SCs = dict() # A dictionary for storing set covers for each attribute A in R\n",
    "    for A in R:\n",
    "        SCs[A] = setCover(A,EV)\n",
    "        FDs += constructFDs(SCs[A])\n",
    "    return FDs\n",
    "\n",
    "def generateIDsForTuples(r):\n",
    "    # e is a set of disciotanries. For each dictionary t in r, this method added an element (id,value), where the \n",
    "    # id is an integer that allows the unique identification of the tuples among the tuples in r.\n",
    "    \n",
    "    i=0 # ceci est notre indentifiant de départ\n",
    "    for t in r:\n",
    "        d = dict() #On crée un nouveau dictionnaire contenant l'ancien tuple auquel on ajoute son identifiant\n",
    "        d.append((i,t))\n",
    "        i+=1\n",
    "        \n",
    "    return r\n",
    "\n",
    "def generateEvidenceSets(R, r):\n",
    "    EVs = set() # It is a set of sets\n",
    "    for ti in r:\n",
    "        for tj in r:\n",
    "            if (ti[0] != tj[0]):\n",
    "                EV = EV.union(identifyDifferenceSet(ti,tj))\n",
    "    return EVs\n",
    "\n",
    "def identifyDifferentSet(ti,tj):\n",
    "    ds = set({})\n",
    "    # return a singleton set, the element of which is a set containing the attributes that have different value in ti and tj\n",
    "    return ds    \n",
    "\n",
    "def setCover(A,EV):\n",
    "\n",
    "# Recherche des couvertures minimales d'un attribut A\n",
    "## 'SCA' est un set contenant les couvertures minimales de A\n",
    "## 'DIA' est un set contenant les ensembles des differences modulo A\n",
    "## 'candidates' est un set contenant les attributs eligibles à la couverture minimale pour A\n",
    "\n",
    "    SCA = set()\n",
    "    DIA = set()\n",
    "    candidates = set() \n",
    "    \n",
    "    for elem in EV:\n",
    "        #Creation d'un subset pour chaque element de EV\n",
    "        subsetEV=set(elem)\n",
    "        #Selection des elements contenant A\n",
    "        \n",
    "        if \"A\" in subsetEV :\n",
    "            subsetEV.difference_update('A')  #On retire A des subsets\n",
    "            DIA.add(frozenset(subsetEV))     #On ajoute les subsets a DIA\n",
    "            #Selection des candidats\n",
    "            for attr in subsetEV :\n",
    "                    candidates.add(attr)\n",
    "    \n",
    "    #Recherche des couvertures minimales pour A parmi les candidats\n",
    "    for attr in candidates:\n",
    "        if all(attr in subset for subset in DIA): #On verifie que attr est dans tous les subsets de DIA\n",
    "            SCA.add(attr)\n",
    "\n",
    "    return  SCA"
   ]
  },
  {
   "cell_type": "code",
   "execution_count": null,
   "metadata": {},
   "outputs": [],
   "source": []
  }
 ],
 "metadata": {
  "kernelspec": {
   "display_name": "Python 3",
   "language": "python",
   "name": "python3"
  },
  "language_info": {
   "codemirror_mode": {
    "name": "ipython",
    "version": 3
   },
   "file_extension": ".py",
   "mimetype": "text/x-python",
   "name": "python",
   "nbconvert_exporter": "python",
   "pygments_lexer": "ipython3",
   "version": "3.7.1"
  }
 },
 "nbformat": 4,
 "nbformat_minor": 2
}
