{
 "cells": [
  {
   "cell_type": "markdown",
   "metadata": {},
   "source": [
    "# Course Mini-project M2 ID           \n",
    "     "
   ]
  },
  {
   "cell_type": "markdown",
   "metadata": {},
   "source": [
    "Projet de Qualité des données.\n",
    "\n",
    "Réalisé par :\n",
    "    <ul>\n",
    "    <li> BOUMAZA Khaoula </li>\n",
    "    <li> DOS SANTOS Bérénice </li>\n",
    "    <li> HOUMEL Idir </li>\n",
    "    <li> KARMALEKI Vincent </li>\n",
    "    <li> MESSALI Nassim </li>\n",
    "    <li> TAYART DE BORMS Charlotte </li>"
   ]
  },
  {
   "cell_type": "markdown",
   "metadata": {},
   "source": [
    "\n",
    "# Project Subject 2: Implementation of the FastFD Algorithm"
   ]
  },
  {
   "cell_type": "markdown",
   "metadata": {},
   "source": [
    "On commence par charger le fichier CSV. La fonction loadFile(path) retourne deux éléments:\n",
    "    <li> r : un set contenant chaque ligne du fichier sous forme d'un tuple </li>\n",
    "    <li> R : une liste contenant le nom des attribus (A,B,C,...) </li>"
   ]
  },
  {
   "cell_type": "code",
   "execution_count": 194,
   "metadata": {},
   "outputs": [],
   "source": [
    "def loadFile(path,separator):\n",
    "    file=open(path,'r', encoding='utf-8-sig')\n",
    "    r=set()\n",
    "    lines=file.readlines()\n",
    "    for line in lines:\n",
    "        row=tuple(line.strip().split(separator))\n",
    "        r.add(row)\n",
    "    \n",
    "    R=[]\n",
    "    nb_attr=len(tuple(lines[0].strip().split(separator)))\n",
    "    ch ='A'\n",
    "    \n",
    "    if (nb_attr == 0):\n",
    "        print(\"Le fichier est vide !\")\n",
    "        \n",
    "    else:\n",
    "        R.append(ch)\n",
    "        #Attribution d'une lettre majuscule a chaque attribut en partant de 'A'\n",
    "        for i in range(1,nb_attr):\n",
    "            attr = chr(ord(ch) + i)\n",
    "            R.append(attr)\n",
    "            \n",
    "    return r, R"
   ]
  },
  {
   "cell_type": "markdown",
   "metadata": {},
   "source": [
    "La fonction generateIDsForTuples(r) retourne une liste de dictionnaires telle que chaque dictionnaire (key,value) est de la forme:\n",
    "    <li> key : Id unique pour chaque ligne (autoincrémenté) </li>\n",
    "    <li> value : tuple contenant les données de la ligne </li>"
   ]
  },
  {
   "cell_type": "code",
   "execution_count": 195,
   "metadata": {},
   "outputs": [],
   "source": [
    "def generateIDsForTuples(r):\n",
    "    new_r=[]\n",
    "    i=0            #indentifiant de départ\n",
    "    for t in r:\n",
    "        d = dict() #On crée un nouveau dictionnaire contenant l'ancien tuple auquel on ajoute son identifiant\n",
    "        d[i]=t\n",
    "        new_r.append(d)\n",
    "        i+=1\n",
    "        \n",
    "    return new_r"
   ]
  },
  {
   "cell_type": "markdown",
   "metadata": {},
   "source": [
    "La fonction identifyDifferentSet(ti,tj,R) retourne un set pour chaque couple (ti,tj) de données d'une ligne.\n",
    "Ce set contient les attributs tels qu'il existe une différence de valeur pour cet attribut entre ti et tj."
   ]
  },
  {
   "cell_type": "code",
   "execution_count": 196,
   "metadata": {},
   "outputs": [],
   "source": [
    "def identifyDifferentSet(ti,tj,R):\n",
    "    diffset = set()\n",
    "    #Recuperation des valeurs des dictionnaires ti et tj\n",
    "    tiV= list(ti.values())[0]\n",
    "    tjV = list(tj.values())[0]\n",
    "    for attr in range(len(R)):\n",
    "        if (tiV[attr]!=tjV[attr]):\n",
    "            diffset.add(R[attr])\n",
    "    return diffset  "
   ]
  },
  {
   "cell_type": "markdown",
   "metadata": {},
   "source": [
    "La fonction generateEvidenceSets(R, r) retourne l'ensemble des \"DifferentSet\" sous forme d'un set de frozenset."
   ]
  },
  {
   "cell_type": "code",
   "execution_count": 197,
   "metadata": {},
   "outputs": [],
   "source": [
    "def generateEvidenceSets(R, r):\n",
    "    DI = set()\n",
    "    #Creation d'un set TJ qui va diminuer au fil des iterations\n",
    "    TJ=r.copy()\n",
    "    for ti in r:\n",
    "        TJ.remove(ti)\n",
    "        for tj in TJ:\n",
    "            #On ne compare que si les ti et tj ne sont pas identiques\n",
    "            #if not({k: ti[k] for k in ti if k in tj and ti[k] == tj[k]}):\n",
    "                    DI.add(frozenset(identifyDifferentSet(ti,tj,R)))\n",
    "    return DI"
   ]
  },
  {
   "cell_type": "markdown",
   "metadata": {},
   "source": [
    "La fonction constructTree(candidates, DIA) permet de construire un arbre de combinaisons à partir d'une liste d'attributs triés en ordre alphabétique. Elle retourne la liste de toutes les couvertures de l'arbre en \"depth first search\". Notons que l'arbre construit ne contient pas de doublon des combinaisons afin de diminuer le temps de parcours."
   ]
  },
  {
   "cell_type": "code",
   "execution_count": 198,
   "metadata": {},
   "outputs": [],
   "source": [
    "def constructTree(candidates, DIA):\n",
    "\n",
    "    #Fonction recursive de parcours de l'arbre\n",
    "    ##'combination' est un ensemble d'attributs visites dans la branche \n",
    "    ##'candidates' est un ensemble d'attributs non visites dans la branche\n",
    "    def rec_tree(combination, candidates,debug):\n",
    "        \n",
    "        #Liste contenant DIA mis a jour a chaque noeud\n",
    "        remaning=DIA.copy()\n",
    "        \n",
    "        for elem in DIA:\n",
    "            \n",
    "            current_attr=combination.split(\",\")\n",
    "            \n",
    "            #Recherche si au moins 1 attribut est present dans tous les elements de DIA\n",
    "            intersect=False\n",
    "            for attr in current_attr: \n",
    "                if attr in set(elem):\n",
    "                    intersect=True\n",
    "            \n",
    "            #Si c'est vrai et qu'il reste des elements dans DIA, on ajoute l'attribut\n",
    "            if (intersect): \n",
    "                remaning.remove(elem)\n",
    "                if not remaning:\n",
    "                    cover.append(current_attr)\n",
    "            \n",
    "        if candidates: #Si candidates est non vide\n",
    "            \n",
    "            for i in range(len(candidates)):\n",
    "                #Ajout du prochain candidat non visite de la branche a la combinaison\n",
    "                next_combination = combination +\",\"+ candidates[i]\n",
    "                #Appel recursif avec la nouvelle combinaison\n",
    "                rec_tree(next_combination, candidates[i + 1:],debug+\"   \")\n",
    "            \n",
    "    #Transformation du 'set' en 'list' et tri par ordre alphabetique des attributs\n",
    "    candidates=list(candidates)\n",
    "    candidates.sort()\n",
    "    #Liste representant l'arbre en DFS\n",
    "    cover = []\n",
    "    \n",
    "    for i in range(len(candidates)):\n",
    "        #Parcours de l'arbre pour le candidat actuel\n",
    "        rec_tree(candidates[i], candidates[i+1:],\"\")\n",
    "\n",
    "    return cover"
   ]
  },
  {
   "cell_type": "markdown",
   "metadata": {},
   "source": [
    "La fonction minList(list) retourne la sous-liste des éléments de taille minimale d'une liste."
   ]
  },
  {
   "cell_type": "code",
   "execution_count": 199,
   "metadata": {},
   "outputs": [],
   "source": [
    "def minList(list):   \n",
    "    min = None\n",
    "    min_list=[]\n",
    "    #Recherche de la taille minimale 'min' des elements de la liste\n",
    "    for elem in list:    \n",
    "        if min==None: \n",
    "            min = elem        \n",
    "        else:\n",
    "            if len(elem) < len(min):\n",
    "                min=elem     \n",
    "    #Ajout de tous les elements de taille 'min'\n",
    "    for elem in list:\n",
    "        if len(elem)==len(min):\n",
    "            min_list.append(elem)\n",
    "\n",
    "    return min_list"
   ]
  },
  {
   "cell_type": "markdown",
   "metadata": {},
   "source": [
    "La fonction setCover(A,EV) retourne la liste des couvertures minimales d'un attribut A. Notons que:\n",
    "    <li> 'SCA' est un set contenant les couvertures minimales de A </li>\n",
    "    <li> 'DIA' est une liste contenant les ensembles des differences modulo A </li>\n",
    "    <li>'candidates' est un set contenant les attributs eligibles à la couverture minimale pour A (afin de diminuer au maximum la taille de l'arbre)</li>"
   ]
  },
  {
   "cell_type": "code",
   "execution_count": 200,
   "metadata": {},
   "outputs": [],
   "source": [
    "def setCover(A,DI):\n",
    "    \n",
    "    SCA = set()\n",
    "    DIA = []\n",
    "    candidates = set() \n",
    "    \n",
    "    for elem in DI:\n",
    "        #Creation d'un subset pour chaque element de DI\n",
    "        subsetDI=set(elem)\n",
    "        \n",
    "        #Selection des elements contenant A    \n",
    "        if A in subsetDI :\n",
    "            subsetDI.remove(A)              #On retire A des subsets\n",
    "            DIA.append(list(subsetDI))      #On ajoute les subsets a DIA\n",
    "            \n",
    "            #Selection des candidats\n",
    "            for attr in subsetDI :\n",
    "                    candidates.add(attr)\n",
    "    \n",
    "    #print(\"Candidates:\",candidates)\n",
    "    #print(\"DIA:\", DIA)\n",
    "    #print(\"Tree:\")\n",
    "    cover = constructTree(candidates,DIA)\n",
    "    min_cover = minList(cover)\n",
    "    for cover in min_cover:\n",
    "        print(cover,\" --> \",A)\n",
    "    \n",
    "    return min_cover  "
   ]
  },
  {
   "cell_type": "markdown",
   "metadata": {},
   "source": [
    "La fonction FastFD(path) exécute l'algorithme de FastFD pour un fichier CSV donné."
   ]
  },
  {
   "cell_type": "code",
   "execution_count": 201,
   "metadata": {},
   "outputs": [],
   "source": [
    "def FastFD(path,separator):\n",
    "    R = loadFile(path,separator)[1]           #Ensemble des attributs\n",
    "    r = loadFile(path,separator)[0]           #Ensemble des donnees\n",
    "    r = generateIDsForTuples(r)               #Ensemble des donnees avec ID\n",
    "    DI = generateEvidenceSets(R, r)  \n",
    "    print(\"Couvertures minimales: \")\n",
    "    for A in R:\n",
    "        setCover(A,DI)\n",
    "    return None"
   ]
  },
  {
   "cell_type": "markdown",
   "metadata": {},
   "source": [
    "Lancement de l'algorithme sur les fichiers de test (remarque:\"test.csv\" contient un exemple du cours)."
   ]
  },
  {
   "cell_type": "code",
   "execution_count": 204,
   "metadata": {},
   "outputs": [
    {
     "name": "stdout",
     "output_type": "stream",
     "text": [
      "Couvertures minimales: \n",
      "['A', 'B', 'C']  -->  E\n",
      "['A', 'B', 'D']  -->  E\n",
      "['A', 'C', 'D']  -->  E\n",
      "['B', 'C', 'D']  -->  E\n"
     ]
    }
   ],
   "source": [
    "FastFD(\"iris.csv\",\",\")\n",
    "#FastFD(\"test.csv\",\",\")\n",
    "#FastFD(\"adult.csv\",\";\")"
   ]
  },
  {
   "cell_type": "markdown",
   "metadata": {},
   "source": [
    "# Organisation du travail"
   ]
  },
  {
   "cell_type": "markdown",
   "metadata": {},
   "source": [
    "## A COMPLETER\n",
    "bbeiuzhuinuieznjsiuze"
   ]
  }
 ],
 "metadata": {
  "kernelspec": {
   "display_name": "Python 3",
   "language": "python",
   "name": "python3"
  },
  "language_info": {
   "codemirror_mode": {
    "name": "ipython",
    "version": 3
   },
   "file_extension": ".py",
   "mimetype": "text/x-python",
   "name": "python",
   "nbconvert_exporter": "python",
   "pygments_lexer": "ipython3",
   "version": "3.7.1"
  }
 },
 "nbformat": 4,
 "nbformat_minor": 2
}
